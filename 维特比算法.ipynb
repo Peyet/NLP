{
 "cells": [
  {
   "cell_type": "markdown",
   "metadata": {},
   "source": [
    "https://blog.csdn.net/firparks/article/details/54631541\n",
    "\n",
    "https://www.cnblogs.com/gongyanzh/p/12878375.html"
   ]
  },
  {
   "cell_type": "code",
   "execution_count": 1,
   "metadata": {},
   "outputs": [],
   "source": [
    "    #维特比算法：1.初始化，2.归纳计算，3.终结，4.路径回溯\n",
    "    def viterbi(self):\n",
    "\n",
    "        #申请维特比变量delta和记录路径的变量path\n",
    "        delta=[0]*len(S)\n",
    "        paths=[]\n",
    "        num=0\n",
    "        count=1\n",
    "\n",
    "        #初始化\n",
    "        for i in Pi.keys():\n",
    "            delta[num]=Pi[i]*B[i][O[0]]\n",
    "            num=(num+1)%len(S)\n",
    "        paths.append(S[delta.index(max(delta))])\n",
    "\n",
    "        #归纳计算\n",
    "        for i in range(len(O)-1):\n",
    "            maxium=max(delta)\n",
    "            position=delta.index(maxium) \n",
    "            for j in S:\n",
    "                delta[num]=maxium*A[S[position]][j]*B[j][O[count]]\n",
    "                num=(num+1)%len(S)\n",
    "            count+=1\n",
    "            #记录路径\n",
    "            paths.append(S[position])\n",
    "        return paths"
   ]
  },
  {
   "cell_type": "code",
   "execution_count": null,
   "metadata": {},
   "outputs": [],
   "source": []
  }
 ],
 "metadata": {
  "kernelspec": {
   "display_name": "Python 3",
   "language": "python",
   "name": "python3"
  },
  "language_info": {
   "codemirror_mode": {
    "name": "ipython",
    "version": 3
   },
   "file_extension": ".py",
   "mimetype": "text/x-python",
   "name": "python",
   "nbconvert_exporter": "python",
   "pygments_lexer": "ipython3",
   "version": "3.7.8"
  }
 },
 "nbformat": 4,
 "nbformat_minor": 4
}
