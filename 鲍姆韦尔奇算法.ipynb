{
 "cells": [
  {
   "cell_type": "markdown",
   "metadata": {},
   "source": [
    "https://blog.csdn.net/firparks/article/details/54934112"
   ]
  },
  {
   "cell_type": "code",
   "execution_count": 4,
   "metadata": {},
   "outputs": [],
   "source": [
    "import numpy\n",
    "\n",
    "class HMM:\n",
    "    def __init__(self,A,B,Pi):\n",
    "        self.A=A\n",
    "        self.B=B\n",
    "        self.Pi=Pi\n",
    "\n",
    "    #前向算法\n",
    "    def forward(self,O):\n",
    "        row=self.A.shape[0]\n",
    "        col=len(O)\n",
    "        alpha=numpy.zeros((row,col))\n",
    "        #初值\n",
    "        alpha[:,0]=self.Pi*self.B[:,O[0]]\n",
    "        #递推\n",
    "        for t in range(1,col):\n",
    "            for i in range(row):\n",
    "                alpha[i,t]=numpy.dot(alpha[:,t-1],self.A[:,i])*self.B[i,O[t]]\n",
    "        #终止\n",
    "        return alpha\n",
    "\n",
    "    #后向算法\n",
    "    def backward(self,O):\n",
    "        row=self.A.shape[0]\n",
    "        col=len(O)\n",
    "        beta=numpy.zeros((row,col))\n",
    "        #初值\n",
    "        beta[:,-1:]=1\n",
    "        #递推\n",
    "        for t in reversed(range(col-1)):\n",
    "            for i in range(row):\n",
    "                beta[i,t]=numpy.sum(self.A[i,:]*self.B[:,O[t+1]]*beta[:,t+1])\n",
    "        #终止\n",
    "        return beta\n",
    "\n",
    "    #前向-后向算法(Baum-Welch算法):由 EM算法 & HMM 结合形成\n",
    "    def baum_welch(self,O,e=0.05):\n",
    "\n",
    "        row=self.A.shape[0]\n",
    "        col=len(O)\n",
    "\n",
    "        done=False\n",
    "        while not done:\n",
    "            zeta=numpy.zeros((row,row,col-1))\n",
    "            alpha=self.forward(O)\n",
    "            beta=self.backward(O)\n",
    "            #EM算法：由 E-步骤 和 M-步骤 组成\n",
    "            #E-步骤：计算期望值zeta和gamma\n",
    "            for t in range(col-1):\n",
    "                #分母部分\n",
    "                denominator=numpy.dot(numpy.dot(alpha[:,t],self.A)*self.B[:,O[t+1]],beta[:,t+1])\n",
    "                for i in range(row):\n",
    "                    #分子部分以及zeta的值\n",
    "                    numerator=alpha[i,t]*self.A[i,:]*self.B[:,O[t+1]]*beta[:,t+1]\n",
    "                    zeta[i,:,t]=numerator/denominator\n",
    "            gamma=numpy.sum(zeta,axis=1)\n",
    "            final_numerator=(alpha[:,col-1]*beta[:,col-1]).reshape(-1,1)\n",
    "            final=final_numerator/numpy.sum(final_numerator)\n",
    "            gamma=numpy.hstack((gamma,final))\n",
    "            #M-步骤：重新估计参数Pi,A,B\n",
    "            newPi=gamma[:,0]\n",
    "            newA=numpy.sum(zeta,axis=2)/numpy.sum(gamma[:,:-1],axis=1)\n",
    "            newB=numpy.copy(self.B)\n",
    "            b_denominator=numpy.sum(gamma,axis=1)\n",
    "            temp_matrix=numpy.zeros((1,len(O)))\n",
    "            for k in range(self.B.shape[1]):\n",
    "                for t in range(len(O)):\n",
    "                    if O[t]==k:\n",
    "                        temp_matrix[0][t]=1\n",
    "                newB[:,k]=numpy.sum(gamma*temp_matrix,axis=1)/b_denominator\n",
    "            #终止阀值\n",
    "            if numpy.max(abs(self.Pi-newPi))<e and numpy.max(abs(self.A-newA))<e and numpy.max(abs(self.B-newB))<e:\n",
    "                done=True \n",
    "            self.A=newA\n",
    "            self.B=newB\n",
    "            self.Pi=newPi\n",
    "        return self.Pi\n",
    "\n",
    "\n",
    "#将字典转化为矩阵\n",
    "def matrix(X,index1,index2):\n",
    "    #初始化为0矩阵\n",
    "    m = numpy.zeros((len(index1),len(index2)))\n",
    "    for row in X:\n",
    "        for col in X[row]:\n",
    "            #转化\n",
    "            m[index1.index(row)][index2.index(col)]=X[row][col]\n",
    "    return m"
   ]
  },
  {
   "cell_type": "code",
   "execution_count": 5,
   "metadata": {},
   "outputs": [
    {
     "name": "stdout",
     "output_type": "stream",
     "text": [
      "[0.97705701 0.02294299]\n"
     ]
    }
   ],
   "source": [
    "if __name__ == \"__main__\":  \n",
    "    #初始化,随机的给参数A,B,Pi赋值\n",
    "    status=[\"相处\",\"拜拜\"]\n",
    "    observations=[\"撒娇\",\"低头玩儿手机\",\"眼神很友好\",\"主动留下联系方式\"] #撒娇:小拳拳捶你胸口\n",
    "    A={\"相处\":{\"相处\":0.5,\"拜拜\":0.5},\"拜拜\":{\"相处\":0.5,\"拜拜\":0.5}}\n",
    "    B={\"相处\":{\"撒娇\":0.4,\"低头玩儿手机\":0.1,\"眼神很友好\":0.3,\"主动留下联系方式\":0.2},\"拜拜\":{\"撒娇\":0.1,\"低头玩儿手机\":0.5,\"眼神很友好\":0.2,\"主动留下联系方式\":0.2}}\n",
    "    Pi=[0.5,0.5]\n",
    "    O=[1,2,0,2,3,0]\n",
    "\n",
    "    A=matrix(A,status,status)\n",
    "    B=matrix(B,status,observations)\n",
    "    hmm=HMM(A,B,Pi)\n",
    "    print(hmm.baum_welch(O))"
   ]
  },
  {
   "cell_type": "code",
   "execution_count": null,
   "metadata": {},
   "outputs": [],
   "source": []
  }
 ],
 "metadata": {
  "kernelspec": {
   "display_name": "Python 3",
   "language": "python",
   "name": "python3"
  },
  "language_info": {
   "codemirror_mode": {
    "name": "ipython",
    "version": 3
   },
   "file_extension": ".py",
   "mimetype": "text/x-python",
   "name": "python",
   "nbconvert_exporter": "python",
   "pygments_lexer": "ipython3",
   "version": "3.7.8"
  }
 },
 "nbformat": 4,
 "nbformat_minor": 4
}
