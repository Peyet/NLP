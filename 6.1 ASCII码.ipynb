{
 "cells": [
  {
   "cell_type": "code",
   "execution_count": 2,
   "metadata": {},
   "outputs": [
    {
     "name": "stdout",
     "output_type": "stream",
     "text": [
      "汉字转为10位ASCII码： 65\n",
      "10位ASCII码转为字符： A\n"
     ]
    }
   ],
   "source": [
    "print(\"汉字转为10位ASCII码：\",  ord('A'))\n",
    "print(\"10位ASCII码转为字符：\",  chr(65))"
   ]
  },
  {
   "cell_type": "code",
   "execution_count": 13,
   "metadata": {},
   "outputs": [
    {
     "name": "stdout",
     "output_type": "stream",
     "text": [
      "0b1000001\n",
      "A\n"
     ]
    }
   ],
   "source": [
    "print(bin(ord('A')))\n",
    "print(chr(int('1000001',2)))"
   ]
  },
  {
   "cell_type": "code",
   "execution_count": 1,
   "metadata": {
    "scrolled": true
   },
   "outputs": [
    {
     "name": "stdout",
     "output_type": "stream",
     "text": [
      "汉字转为10位ASCII码： 27827 21271 22823 23398\n",
      "10位ASCII码转为汉字： 河 北 大 学\n",
      "汉字转为16位ASCII码： 0x6cb3 0x5317 0x5927 0x5b66\n",
      "16位转为10位ASCII码： 27827 21271 22823 23398\n",
      "10位ASCII码转为汉字： 河 北 大 学\n"
     ]
    }
   ],
   "source": [
    "print(\"汉字转为10位ASCII码：\", ord('河'),  ord('北'),  ord('大'),  ord('学'))\n",
    "print(\"10位ASCII码转为汉字：\", chr(27827), chr(21271), chr(22823), chr(23398))\n",
    "print(\"汉字转为16位ASCII码：\",hex(ord('河')),  hex(ord('北')),  hex(ord('大')),  hex(ord('学')))\n",
    "print(\"16位转为10位ASCII码：\",int('6cb3',16),int('5317',16),int('5927',16),int('5b66',16))\n",
    "print(\"10位ASCII码转为汉字： %c %c %c %c\" % (27827,21271,22823,23398))"
   ]
  },
  {
   "cell_type": "code",
   "execution_count": null,
   "metadata": {},
   "outputs": [],
   "source": []
  }
 ],
 "metadata": {
  "kernelspec": {
   "display_name": "Python 3",
   "language": "python",
   "name": "python3"
  },
  "language_info": {
   "codemirror_mode": {
    "name": "ipython",
    "version": 3
   },
   "file_extension": ".py",
   "mimetype": "text/x-python",
   "name": "python",
   "nbconvert_exporter": "python",
   "pygments_lexer": "ipython3",
   "version": "3.7.8"
  }
 },
 "nbformat": 4,
 "nbformat_minor": 4
}
