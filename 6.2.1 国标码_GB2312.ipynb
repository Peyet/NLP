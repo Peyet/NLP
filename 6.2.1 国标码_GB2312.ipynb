{
 "cells": [
  {
   "cell_type": "markdown",
   "metadata": {},
   "source": [
    "### 2、8、16 与 10 进制转换"
   ]
  },
  {
   "cell_type": "code",
   "execution_count": 84,
   "metadata": {},
   "outputs": [
    {
     "name": "stdout",
     "output_type": "stream",
     "text": [
      "15 15 15\n",
      "0xf 0o17 0b1111\n"
     ]
    }
   ],
   "source": [
    "print(int('1111',2),int('17',8),int('F',16))\n",
    "print(hex(15),oct(15),bin(15))"
   ]
  },
  {
   "cell_type": "markdown",
   "metadata": {},
   "source": [
    "### 检查字符串使用的字符集"
   ]
  },
  {
   "cell_type": "code",
   "execution_count": 171,
   "metadata": {},
   "outputs": [
    {
     "name": "stdout",
     "output_type": "stream",
     "text": [
      "当前字符集：\n",
      "{'encoding': 'utf-8', 'confidence': 0.938125, 'language': ''}\n"
     ]
    }
   ],
   "source": [
    "import chardet\n",
    "s = '河北大学'\n",
    "print(\"当前字符集：\")\n",
    "print(chardet.detect(str.encode(s)))"
   ]
  },
  {
   "cell_type": "markdown",
   "metadata": {},
   "source": [
    "### Unicode 转为 GB2312"
   ]
  },
  {
   "cell_type": "code",
   "execution_count": 172,
   "metadata": {},
   "outputs": [
    {
     "name": "stdout",
     "output_type": "stream",
     "text": [
      "当前字符集：\n",
      "{'encoding': 'GB2312', 'confidence': 0.99, 'language': 'Chinese'}\n",
      "gb2312: b'\\xba\\xd3\\xb1\\xb1\\xb4\\xf3\\xd1\\xa7'\n",
      "gb2312: 河北大学\n"
     ]
    }
   ],
   "source": [
    "###unicode>gb2312\n",
    "unicode_gb2312 = s.encode('gb2312') ###因为默认是unicode所以不需要decode()，直接encode成想要转换的编码如gb2312\n",
    "print(\"当前字符集：\")\n",
    "print(chardet.detect(unicode_gb2312))\n",
    "print('gb2312:',unicode_gb2312)\n",
    "print('gb2312:',unicode_gb2312.decode('gb2312'))"
   ]
  },
  {
   "cell_type": "markdown",
   "metadata": {},
   "source": [
    "### GB2312 转为 Unicode"
   ]
  },
  {
   "cell_type": "code",
   "execution_count": 173,
   "metadata": {},
   "outputs": [
    {
     "name": "stdout",
     "output_type": "stream",
     "text": [
      "当前字符集：\n",
      "{'encoding': 'utf-8', 'confidence': 0.938125, 'language': ''}\n",
      "utf-8: b'\\xe6\\xb2\\xb3\\xe5\\x8c\\x97\\xe5\\xa4\\xa7\\xe5\\xad\\xa6'\n",
      "utf-8: 河北大学\n"
     ]
    }
   ],
   "source": [
    "###gb2312>utf8\n",
    "gb2312_utf8=unicode_gb2312.decode('gb2312').encode('utf-8') ##当前字符为gb2312所以要先decode成unicode(decode中传入的参数为当前字符的编码集)然后再encode成utf-8\n",
    "print(\"当前字符集：\")\n",
    "print(chardet.detect(gb2312_utf8))\n",
    "print('utf-8:',gb2312_utf8)\n",
    "print('utf-8:',gb2312_utf8.decode('utf-8'))"
   ]
  },
  {
   "cell_type": "markdown",
   "metadata": {
    "scrolled": true
   },
   "source": [
    "### GB2312 与 ASCII 扩展码"
   ]
  },
  {
   "cell_type": "code",
   "execution_count": 1,
   "metadata": {
    "scrolled": false
   },
   "outputs": [
    {
     "name": "stdout",
     "output_type": "stream",
     "text": [
      "b'\\xba\\xd3'\n",
      "27827\n",
      "0x6cb3\n"
     ]
    }
   ],
   "source": [
    "print('河'.encode('gb2312')) # \\x 表示 16进制\n",
    "print(ord('河'))\n",
    "print(hex(ord('河')))"
   ]
  },
  {
   "cell_type": "code",
   "execution_count": 60,
   "metadata": {
    "scrolled": false
   },
   "outputs": [
    {
     "name": "stdout",
     "output_type": "stream",
     "text": [
      "186 211\n",
      "27827\n"
     ]
    }
   ],
   "source": [
    "print(int('ba',16),int('d3',16))\n",
    "print(int('6cb3',16))"
   ]
  },
  {
   "cell_type": "markdown",
   "metadata": {},
   "source": [
    "### 输出GB2312字符集"
   ]
  },
  {
   "cell_type": "code",
   "execution_count": 2,
   "metadata": {},
   "outputs": [
    {
     "name": "stdout",
     "output_type": "stream",
     "text": [
      "耙 176 210\n",
      "坝 176 211\n",
      "霸 176 212\n",
      "罢 176 213\n",
      "爸 176 214\n",
      "白 176 215\n",
      "币 177 210\n",
      "庇 177 211\n",
      "痹 177 212\n",
      "闭 177 213\n",
      "敝 177 214\n",
      "弊 177 215\n"
     ]
    }
   ],
   "source": [
    "for i in range(176,178):\n",
    "    for j in range(210,216):\n",
    "        s = hex(i) + hex(j)\n",
    "        s = s.replace('0x','')\n",
    "        bi = [int(s[0:2],16),]\n",
    "        bi = bi + [int(s[2:4],16),]\n",
    "        bs = bytearray(bi)\n",
    "        print(bytes(bs).decode('gb2312'),i,j)\n",
    "# 转格式部分代码参考 区位码.ipynb"
   ]
  },
  {
   "cell_type": "code",
   "execution_count": 183,
   "metadata": {},
   "outputs": [
    {
     "name": "stdout",
     "output_type": "stream",
     "text": [
      "16 54\n"
     ]
    }
   ],
   "source": [
    "print(176-0xA0,214-0xA0)"
   ]
  },
  {
   "cell_type": "code",
   "execution_count": 184,
   "metadata": {},
   "outputs": [
    {
     "data": {
      "text/plain": [
       "160"
      ]
     },
     "execution_count": 184,
     "metadata": {},
     "output_type": "execute_result"
    }
   ],
   "source": [
    "int('0xA0',16)"
   ]
  }
 ],
 "metadata": {
  "kernelspec": {
   "display_name": "Python 3",
   "language": "python",
   "name": "python3"
  },
  "language_info": {
   "codemirror_mode": {
    "name": "ipython",
    "version": 3
   },
   "file_extension": ".py",
   "mimetype": "text/x-python",
   "name": "python",
   "nbconvert_exporter": "python",
   "pygments_lexer": "ipython3",
   "version": "3.7.8"
  }
 },
 "nbformat": 4,
 "nbformat_minor": 4
}
