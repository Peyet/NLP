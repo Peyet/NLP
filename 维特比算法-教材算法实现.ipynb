{
 "cells": [
  {
   "cell_type": "markdown",
   "metadata": {},
   "source": [
    "https://www.cnblogs.com/gongyanzh/p/12878375.html"
   ]
  },
  {
   "cell_type": "markdown",
   "metadata": {},
   "source": [
    "# 维特比算法"
   ]
  },
  {
   "cell_type": "code",
   "execution_count": 1,
   "metadata": {},
   "outputs": [],
   "source": [
    "def hmm_viterbi(A,B,pi,O):\n",
    "    T = len(O)\n",
    "    N = len(A[0])\n",
    "    \n",
    "    delta = [[0]*N for _ in range(T)]\n",
    "    psi = [[0]*N for _ in range(T)]\n",
    "    \n",
    "    #step1: init\n",
    "    print(\"=========1.初始化===========\")\n",
    "    for i in range(N):\n",
    "        delta[0][i] = pi[i]*B[i][O[0]]\n",
    "        psi[0][i] = 0\n",
    "        print('delta 1 (',i,')=',delta[0][i])\n",
    "        \n",
    "    #step2: iter\n",
    "    print(\"\\n=========2.递推，对 t=2,3,...,T===========\")\n",
    "    for t in range(1,T):\n",
    "        for i in range(N):\n",
    "            temp,maxindex = 0,0\n",
    "            for j in range(N):\n",
    "                res = delta[t-1][j]*A[j][i]\n",
    "                if res>temp:\n",
    "                    temp = res\n",
    "                    maxindex = j\n",
    "\n",
    "            delta[t][i] = temp*B[i][O[t]]#delta\n",
    "            psi[t][i] = maxindex\n",
    "            print('delta',t+1,'(',i,')=',delta[t][i])\n",
    "            print('最大值的位置：',psi[t][i])\n",
    "        print(\"-------------\")\n",
    "    \n",
    "    #end    \n",
    "    p = max(delta[-1])\n",
    "    for i in range(N):\n",
    "        if delta[-1][i] == p:\n",
    "            i_T = i\n",
    "            print('最后时刻T，最大值位置是：',i_T)\n",
    "        \n",
    "    #step3：backtrack\n",
    "    print(\"\\n=========3.路径回溯===========\")\n",
    "    path = [0]*T\n",
    "    i_t = i_T\n",
    "    for t in reversed(range(T-1)):\n",
    "        i_t = psi[t+1][i_t]\n",
    "        path[t] = i_t\n",
    "    path[-1] = i_T\n",
    "    print(\"最优状态序列：\",path)\n",
    "    \n",
    "    return"
   ]
  },
  {
   "cell_type": "code",
   "execution_count": 2,
   "metadata": {},
   "outputs": [
    {
     "name": "stdout",
     "output_type": "stream",
     "text": [
      "=========1.初始化===========\n",
      "delta 1 ( 0 )= 0.378\n",
      "delta 1 ( 1 )= 0.0425\n",
      "delta 1 ( 2 )= 0.010000000000000002\n",
      "\n",
      "=========2.递推，对 t=2,3,...,T===========\n",
      "delta 2 ( 0 )= 0.02835\n",
      "最大值的位置： 0\n",
      "delta 2 ( 1 )= 0.0354375\n",
      "最大值的位置： 0\n",
      "delta 2 ( 2 )= 0.0165375\n",
      "最大值的位置： 0\n",
      "-------------\n",
      "delta 3 ( 0 )= 0.0007087500000000001\n",
      "最大值的位置： 0\n",
      "delta 3 ( 1 )= 0.0026578125\n",
      "最大值的位置： 0\n",
      "delta 3 ( 2 )= 0.01107421875\n",
      "最大值的位置： 1\n",
      "-------------\n",
      "最后时刻T，最大值位置是： 2\n",
      "\n",
      "=========3.路径回溯===========\n",
      "最优状态序列： [0, 1, 2]\n"
     ]
    }
   ],
   "source": [
    "pi = [0.63,0.17,0.20]                                                  #初始概率矩阵 \n",
    "A = [[0.5,0.375,0.125],[0.25,0.125,0.625],[0.25,0.375,0.375]]          #状态转移矩阵\n",
    "B = [[0.60,0.20,0.15,0.05],[0.25,0.25,0.25,0.25],[0.05,0.10,0.35,0.5]] #发射概率矩阵 \n",
    "O = [0,2,3] #0干燥、1稍干、2潮湿、3湿透\n",
    "hmm_viterbi(A,B,pi,O)"
   ]
  },
  {
   "cell_type": "code",
   "execution_count": null,
   "metadata": {},
   "outputs": [],
   "source": []
  }
 ],
 "metadata": {
  "kernelspec": {
   "display_name": "Python 3",
   "language": "python",
   "name": "python3"
  },
  "language_info": {
   "codemirror_mode": {
    "name": "ipython",
    "version": 3
   },
   "file_extension": ".py",
   "mimetype": "text/x-python",
   "name": "python",
   "nbconvert_exporter": "python",
   "pygments_lexer": "ipython3",
   "version": "3.7.8"
  }
 },
 "nbformat": 4,
 "nbformat_minor": 4
}
