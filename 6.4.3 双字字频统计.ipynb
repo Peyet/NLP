{
 "cells": [
  {
   "cell_type": "code",
   "execution_count": 4,
   "metadata": {},
   "outputs": [],
   "source": [
    "import operator\n",
    "import re\n",
    "strs = \"发展中国家（Developing country）也称作开发中国家、欠发达国家，指经济、技术、人民生活水平程度较低的国家，与发达国家相对。\""
   ]
  },
  {
   "cell_type": "code",
   "execution_count": 7,
   "metadata": {},
   "outputs": [
    {
     "name": "stdout",
     "output_type": "stream",
     "text": [
      "{'发': 4, '展': 1, '中': 2, '国': 5, '家': 5, '也': 1, '称': 1, '作': 1, '开': 1, '欠': 1, '达': 2, '指': 1, '经': 1, '济': 1, '技': 1, '术': 1, '人': 1, '民': 1, '生': 1, '活': 1, '水': 1, '平': 1, '程': 1, '度': 1, '较': 1, '低': 1, '的': 1, '与': 1, '相': 1, '对': 1}\n"
     ]
    }
   ],
   "source": [
    "str_dict = {}\n",
    "word_dict = {}\n",
    "temp=''\n",
    "\n",
    "for i in strs:\n",
    "    result = re.compile(u'[\\u4e00-\\u9fa5]')\n",
    "    if result.search(i):\n",
    "        str_dict[i] = str_dict.get(i,0) + 1 \n",
    "        word = temp+i    \n",
    "        if temp!='':\n",
    "            word_dict[word] = word_dict.get(word,0) + 1 \n",
    "        temp = i\n",
    "    else:\n",
    "        temp = ''\n",
    "        \n",
    "print (str_dict)\n",
    "# print (word_dict)"
   ]
  },
  {
   "cell_type": "code",
   "execution_count": 8,
   "metadata": {},
   "outputs": [
    {
     "name": "stdout",
     "output_type": "stream",
     "text": [
      "('国家', 5)\n",
      "('中国', 2)\n",
      "('发达', 2)\n",
      "('达国', 2)\n",
      "('发展', 1)\n",
      "('展中', 1)\n",
      "('也称', 1)\n",
      "('称作', 1)\n",
      "('作开', 1)\n",
      "('开发', 1)\n",
      "('发中', 1)\n",
      "('欠发', 1)\n",
      "('指经', 1)\n",
      "('经济', 1)\n",
      "('技术', 1)\n",
      "('人民', 1)\n",
      "('民生', 1)\n",
      "('生活', 1)\n",
      "('活水', 1)\n",
      "('水平', 1)\n",
      "('平程', 1)\n",
      "('程度', 1)\n",
      "('度较', 1)\n",
      "('较低', 1)\n",
      "('低的', 1)\n",
      "('的国', 1)\n",
      "('与发', 1)\n",
      "('家相', 1)\n",
      "('相对', 1)\n"
     ]
    }
   ],
   "source": [
    "sorted_x = sorted(word_dict.items(), key=operator.itemgetter(1), reverse=True)\n",
    "for i in sorted_x:\n",
    "    print(i)"
   ]
  },
  {
   "cell_type": "code",
   "execution_count": null,
   "metadata": {},
   "outputs": [],
   "source": []
  }
 ],
 "metadata": {
  "kernelspec": {
   "display_name": "Python 3",
   "language": "python",
   "name": "python3"
  },
  "language_info": {
   "codemirror_mode": {
    "name": "ipython",
    "version": 3
   },
   "file_extension": ".py",
   "mimetype": "text/x-python",
   "name": "python",
   "nbconvert_exporter": "python",
   "pygments_lexer": "ipython3",
   "version": "3.7.8"
  }
 },
 "nbformat": 4,
 "nbformat_minor": 4
}
