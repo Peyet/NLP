{
 "cells": [
  {
   "cell_type": "markdown",
   "metadata": {},
   "source": [
    "教材：53页例题"
   ]
  },
  {
   "cell_type": "markdown",
   "metadata": {},
   "source": [
    "# 前向算法\n",
    "##### https://www.cnblogs.com/gongyanzh/p/12880387.html"
   ]
  },
  {
   "cell_type": "markdown",
   "metadata": {},
   "source": [
    "前向算法函数："
   ]
  },
  {
   "cell_type": "code",
   "execution_count": 1,
   "metadata": {},
   "outputs": [],
   "source": [
    "def hmm_forward(A,B,pi,O):\n",
    "    T = len(O)\n",
    "    N = len(A[0])\n",
    "    \n",
    "    #step1 初始化\n",
    "    print(\"=========1.初始化===========\")\n",
    "    alpha = [[0]*T for _ in range(N)]\n",
    "    for i in range(N):\n",
    "        alpha[i][0] = pi[i]*B[i][O[0]]\n",
    "        print('alpha 1 (',i,')=',alpha[i][0])\n",
    "    \n",
    "    #step2 计算alpha(t)\n",
    "    print(\"\\n=========2.递推，对 t=2,3,...,T===========\")\n",
    "    for t in range(1,T):\n",
    "        for i in range(N):\n",
    "            temp = 0\n",
    "            for j in range(N):\n",
    "                temp += alpha[j][t-1]*A[j][i]\n",
    "            alpha[i][t] = temp*B[i][O[t]]\n",
    "            print('alpha',t+1,'(',i,')=',alpha[i][t])\n",
    "        print(\"-------------\")\n",
    "        \n",
    "    #step3\n",
    "    print(\"\\n=========3.求和===========\")\n",
    "    proba = 0\n",
    "    for i in range(N):\n",
    "        proba += alpha[i][-1]\n",
    "    print(\"alpha = \",proba)\n",
    "    \n",
    "    return "
   ]
  },
  {
   "cell_type": "markdown",
   "metadata": {},
   "source": [
    "定义 初始概率矩阵 状态转移矩阵 发射概率矩阵 "
   ]
  },
  {
   "cell_type": "code",
   "execution_count": 2,
   "metadata": {},
   "outputs": [],
   "source": [
    "pi = [0.63,0.17,0.20]                                                  #初始概率矩阵 \n",
    "A = [[0.5,0.375,0.125],[0.25,0.125,0.625],[0.25,0.375,0.375]]          #状态转移矩阵\n",
    "B = [[0.60,0.20,0.15,0.05],[0.25,0.25,0.25,0.25],[0.05,0.10,0.35,0.5]] #发射概率矩阵 "
   ]
  },
  {
   "cell_type": "markdown",
   "metadata": {},
   "source": [
    "观察值序列O ：干燥，潮湿，湿透 。"
   ]
  },
  {
   "cell_type": "code",
   "execution_count": 3,
   "metadata": {
    "scrolled": true
   },
   "outputs": [
    {
     "name": "stdout",
     "output_type": "stream",
     "text": [
      "=========1.初始化===========\n",
      "alpha 1 ( 0 )= 0.378\n",
      "alpha 1 ( 1 )= 0.0425\n",
      "alpha 1 ( 2 )= 0.010000000000000002\n",
      "\n",
      "=========2.递推，对 t=2,3,...,T===========\n",
      "alpha 2 ( 0 )= 0.03031875\n",
      "alpha 2 ( 1 )= 0.037703125\n",
      "alpha 2 ( 2 )= 0.027146875\n",
      "-------------\n",
      "alpha 3 ( 0 )= 0.0015685937499999997\n",
      "alpha 3 ( 1 )= 0.006565625\n",
      "alpha 3 ( 2 )= 0.0187671875\n",
      "-------------\n",
      "\n",
      "=========3.求和===========\n",
      "alpha =  0.026901406250000003\n"
     ]
    }
   ],
   "source": [
    "O = [0,2,3]                                                            #0干燥、1稍干、2潮湿、3湿透\n",
    "hmm_forward(A,B,pi,O)  "
   ]
  },
  {
   "cell_type": "markdown",
   "metadata": {},
   "source": [
    "测试多种观察值序列"
   ]
  },
  {
   "cell_type": "code",
   "execution_count": 4,
   "metadata": {},
   "outputs": [
    {
     "name": "stdout",
     "output_type": "stream",
     "text": [
      "=========1.初始化===========\n",
      "alpha 1 ( 0 )= 0.378\n",
      "alpha 1 ( 1 )= 0.0425\n",
      "alpha 1 ( 2 )= 0.010000000000000002\n",
      "\n",
      "=========2.递归===========\n",
      "alpha 2 ( 0 )= 0.040425\n",
      "alpha 2 ( 1 )= 0.037703125\n",
      "alpha 2 ( 2 )= 0.007756250000000001\n",
      "-------------\n",
      "alpha 3 ( 0 )= 0.0047366015625\n",
      "alpha 3 ( 1 )= 0.00569521484375\n",
      "alpha 3 ( 2 )= 0.01103416015625\n",
      "-------------\n",
      "alpha 4 ( 0 )= 0.00032753222656250005\n",
      "alpha 4 ( 1 )= 0.001656484375\n",
      "alpha 4 ( 2 )= 0.004144697265625\n",
      "-------------\n",
      "\n",
      "=========3.求和===========\n",
      "alpha =  0.006128713867187501\n"
     ]
    }
   ],
   "source": [
    "O = [0,1,2,3]                                                            #0干燥、1稍干、2潮湿、3湿透\n",
    "hmm_forward(A,B,pi,O)  "
   ]
  },
  {
   "cell_type": "code",
   "execution_count": 5,
   "metadata": {},
   "outputs": [
    {
     "name": "stdout",
     "output_type": "stream",
     "text": [
      "=========1.初始化===========\n",
      "alpha 1 ( 0 )= 0.378\n",
      "alpha 1 ( 1 )= 0.0425\n",
      "alpha 1 ( 2 )= 0.010000000000000002\n",
      "\n",
      "=========2.递归===========\n",
      "alpha 2 ( 0 )= 0.040425\n",
      "alpha 2 ( 1 )= 0.037703125\n",
      "alpha 2 ( 2 )= 0.007756250000000001\n",
      "-------------\n",
      "\n",
      "=========3.求和===========\n",
      "alpha =  0.085884375\n"
     ]
    }
   ],
   "source": [
    "O = [0,1]                                                            #0干燥、1稍干、2潮湿、3湿透\n",
    "hmm_forward(A,B,pi,O)  "
   ]
  },
  {
   "cell_type": "code",
   "execution_count": 6,
   "metadata": {},
   "outputs": [
    {
     "name": "stdout",
     "output_type": "stream",
     "text": [
      "=========1.初始化===========\n",
      "alpha 1 ( 0 )= 0.378\n",
      "alpha 1 ( 1 )= 0.0425\n",
      "alpha 1 ( 2 )= 0.010000000000000002\n",
      "\n",
      "=========2.递归===========\n",
      "alpha 2 ( 0 )= 0.040425\n",
      "alpha 2 ( 1 )= 0.037703125\n",
      "alpha 2 ( 2 )= 0.007756250000000001\n",
      "-------------\n",
      "alpha 3 ( 0 )= 0.006315468750000001\n",
      "alpha 3 ( 1 )= 0.00569521484375\n",
      "alpha 3 ( 2 )= 0.0031526171875000003\n",
      "-------------\n",
      "alpha 4 ( 0 )= 0.0010739384765625002\n",
      "alpha 4 ( 1 )= 0.0010656085205078126\n",
      "alpha 4 ( 2 )= 0.0005531174316406251\n",
      "-------------\n",
      "alpha 5 ( 0 )= 0.00018833014526367192\n",
      "alpha 5 ( 1 )= 0.00018583675765991215\n",
      "alpha 5 ( 2 )= 0.000100766667175293\n",
      "-------------\n",
      "alpha 6 ( 0 )= 3.316318576812745e-05\n",
      "alpha 6 ( 1 )= 3.2910224843025215e-05\n",
      "alpha 6 ( 2 )= 1.7747674188613897e-05\n",
      "-------------\n",
      "alpha 7 ( 0 )= 5.849213528394701e-06\n",
      "alpha 7 ( 1 )= 5.801337647289039e-06\n",
      "alpha 7 ( 2 )= 3.1369666568636902e-06\n",
      "-------------\n",
      "alpha 8 ( 0 )= 1.0318365680471066e-06\n",
      "alpha 8 ( 1 )= 1.0237461938457567e-06\n",
      "alpha 8 ( 2 )= 5.533350216928871e-07\n",
      "-------------\n",
      "alpha 9 ( 0 )= 1.8203771758164285e-07\n",
      "alpha 9 ( 1 )= 1.806019050958043e-07\n",
      "alpha 9 ( 2 )= 9.763215752943189e-08\n",
      "-------------\n",
      "alpha 10 ( 0 )= 3.21154748894261e-08\n",
      "alpha 10 ( 1 )= 3.186286032590714e-08\n",
      "alpha 10 ( 2 )= 1.7224296445611997e-08\n",
      "-------------\n",
      "alpha 11 ( 0 )= 5.6659053275185665e-09\n",
      "alpha 11 ( 1 )= 5.621317947844419e-09\n",
      "alpha 11 ( 2 )= 3.038783323197472e-09\n",
      "-------------\n",
      "\n",
      "=========3.求和===========\n",
      "alpha =  1.4326006598560457e-08\n"
     ]
    }
   ],
   "source": [
    "O = [0,1,1,1,1,1,1,1,1,1,1]                                                            #0干燥、1稍干、2潮湿、3湿透\n",
    "hmm_forward(A,B,pi,O)  "
   ]
  },
  {
   "cell_type": "code",
   "execution_count": null,
   "metadata": {},
   "outputs": [],
   "source": []
  }
 ],
 "metadata": {
  "kernelspec": {
   "display_name": "Python 3",
   "language": "python",
   "name": "python3"
  },
  "language_info": {
   "codemirror_mode": {
    "name": "ipython",
    "version": 3
   },
   "file_extension": ".py",
   "mimetype": "text/x-python",
   "name": "python",
   "nbconvert_exporter": "python",
   "pygments_lexer": "ipython3",
   "version": "3.8.3"
  }
 },
 "nbformat": 4,
 "nbformat_minor": 4
}
