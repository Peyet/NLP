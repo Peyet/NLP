{
 "cells": [
  {
   "cell_type": "markdown",
   "metadata": {},
   "source": [
    "# 1. 便于表示控制字符\n",
    "\n",
    "回车，ASCII码13\n",
    "\n",
    "换行，ASCII码10\n",
    "\n",
    "空格，ASCII码32"
   ]
  },
  {
   "cell_type": "code",
   "execution_count": 14,
   "metadata": {},
   "outputs": [
    {
     "name": "stdout",
     "output_type": "stream",
     "text": [
      "10位ASCII码转为字符： \r\n"
     ]
    }
   ],
   "source": [
    "print(\"10位ASCII码转为字符：\",  chr(13))"
   ]
  },
  {
   "cell_type": "code",
   "execution_count": 15,
   "metadata": {},
   "outputs": [
    {
     "name": "stdout",
     "output_type": "stream",
     "text": [
      "请输入： \n",
      "你输入的内容是: 空格\n"
     ]
    }
   ],
   "source": [
    "str = input(\"请输入：\");\n",
    "if (str == chr(32)):\n",
    "    print (\"你输入的内容是: 空格\")\n",
    "else:\n",
    "    print (\"你输入的内容是: \", str)"
   ]
  },
  {
   "cell_type": "markdown",
   "metadata": {},
   "source": [
    "# 2. 编程中对字符分类"
   ]
  },
  {
   "cell_type": "markdown",
   "metadata": {},
   "source": [
    "ord() 返回对应的 ASCII 数值，或者 Unicode 数值"
   ]
  },
  {
   "cell_type": "code",
   "execution_count": 27,
   "metadata": {},
   "outputs": [
    {
     "name": "stdout",
     "output_type": "stream",
     "text": [
      "请输入：3\n",
      "你输入的内容是: 西文字符\n"
     ]
    }
   ],
   "source": [
    "str = input(\"请输入：\");\n",
    "if (ord(str) < 128):\n",
    "    print (\"你输入的内容是: 西文字符\")\n",
    "elif(ord(str) >= 176):\n",
    "    print (\"你输入的内容是: 中文字符\")\n",
    "else:\n",
    "    print (\"你输入的内容是: 其他字符\")"
   ]
  },
  {
   "cell_type": "code",
   "execution_count": null,
   "metadata": {},
   "outputs": [],
   "source": []
  }
 ],
 "metadata": {
  "kernelspec": {
   "display_name": "Python 3",
   "language": "python",
   "name": "python3"
  },
  "language_info": {
   "codemirror_mode": {
    "name": "ipython",
    "version": 3
   },
   "file_extension": ".py",
   "mimetype": "text/x-python",
   "name": "python",
   "nbconvert_exporter": "python",
   "pygments_lexer": "ipython3",
   "version": "3.7.8"
  }
 },
 "nbformat": 4,
 "nbformat_minor": 4
}
