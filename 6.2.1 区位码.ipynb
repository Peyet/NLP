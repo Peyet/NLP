{
 "cells": [
  {
   "cell_type": "code",
   "execution_count": 44,
   "metadata": {
    "scrolled": false
   },
   "outputs": [
    {
     "name": "stdout",
     "output_type": "stream",
     "text": [
      "解码之前： b'\\xba\\xd3\\xb1\\xb1\\xb4\\xf3\\xd1\\xa7'\n",
      "解码结果： 河北大学\n"
     ]
    }
   ],
   "source": [
    "s = 'bad3b1b1b4f3d1a7' #河北大学\n",
    "\n",
    "bi=[]\n",
    "\n",
    "for i in range(int(len(s)/2)):\n",
    "    bi = bi + [int(s[i*2:i*2+2],16), ]\n",
    "    bs = bytearray(bi)\n",
    "\n",
    "print ('解码之前：',bytes(bs))\n",
    "print ('解码结果：',bytes(bs).decode('gb2312') )\n",
    "\n",
    "# ref：https://www.zhihu.com/question/62662465"
   ]
  },
  {
   "cell_type": "code",
   "execution_count": 50,
   "metadata": {},
   "outputs": [
    {
     "name": "stdout",
     "output_type": "stream",
     "text": [
      "国标GB2312: 176 244\n",
      "十六进制: 0xb00xf4\n",
      "去掉0x标记: b0f4\n",
      "解码之前： b'\\xb0\\xf4'\n",
      "解码结果： 棒\n"
     ]
    }
   ],
   "source": [
    "zone_num = 16 # 区码\n",
    "bit_num  = 84 # 位码\n",
    "\n",
    "r = zone_num + 0xA0 # int('0xA0',16) = 160\n",
    "b = bit_num  + 0xA0\n",
    "print('国标GB2312:',r,b) \n",
    "\n",
    "s = hex(r) + hex(b)\n",
    "print('十六进制:',s)\n",
    "\n",
    "s = s.replace('0x','')\n",
    "print('去掉0x标记:',s)\n",
    "\n",
    "bi = [int(s[0:2],16), ]\n",
    "bi = bi + [int(s[2:4],16), ]\n",
    "bs = bytearray(bi)\n",
    "\n",
    "print ('解码之前：',bytes(bs))\n",
    "print ('解码结果：',bytes(bs).decode('gb2312') )\n",
    "\n",
    "# ref：https://www.zhihu.com/question/62662465"
   ]
  },
  {
   "cell_type": "markdown",
   "metadata": {},
   "source": [
    "### 根据 区位码 显示单个汉字"
   ]
  },
  {
   "cell_type": "code",
   "execution_count": 3,
   "metadata": {},
   "outputs": [],
   "source": [
    "def show_word(zone_num, bit_num):# 根据 区位码 显示单个汉字\n",
    "    r = zone_num + 0xA0 \n",
    "    b = bit_num  + 0xA0\n",
    "    s = hex(r) + hex(b)\n",
    "    s = s.replace('0x','')\n",
    "    bi = [int(s[0:2],16), ]\n",
    "    bi = bi + [int(s[2:4],16), ]\n",
    "    bs = bytearray(bi)\n",
    "    return bytes(bs).decode('gb2312')"
   ]
  },
  {
   "cell_type": "markdown",
   "metadata": {},
   "source": [
    "### 例如："
   ]
  },
  {
   "cell_type": "code",
   "execution_count": 4,
   "metadata": {},
   "outputs": [
    {
     "data": {
      "text/plain": [
       "'棒'"
      ]
     },
     "execution_count": 4,
     "metadata": {},
     "output_type": "execute_result"
    }
   ],
   "source": [
    "show_word(16,84)"
   ]
  },
  {
   "cell_type": "code",
   "execution_count": 6,
   "metadata": {},
   "outputs": [
    {
     "data": {
      "text/plain": [
       "'爸'"
      ]
     },
     "execution_count": 6,
     "metadata": {},
     "output_type": "execute_result"
    }
   ],
   "source": [
    "show_word(16,54)"
   ]
  },
  {
   "cell_type": "code",
   "execution_count": 7,
   "metadata": {},
   "outputs": [
    {
     "data": {
      "text/plain": [
       "'万'"
      ]
     },
     "execution_count": 7,
     "metadata": {},
     "output_type": "execute_result"
    }
   ],
   "source": [
    "show_word(45,82)"
   ]
  },
  {
   "cell_type": "markdown",
   "metadata": {},
   "source": [
    "### 输出 16区 所有文字"
   ]
  },
  {
   "cell_type": "code",
   "execution_count": 75,
   "metadata": {},
   "outputs": [
    {
     "name": "stdout",
     "output_type": "stream",
     "text": [
      "     啊   阿   埃   挨   哎   唉   哀   皑   癌   \n",
      "\n",
      "蔼   矮   艾   碍   爱   隘   鞍   氨   安   俺   \n",
      "\n",
      "按   暗   岸   胺   案   肮   昂   盎   凹   敖   \n",
      "\n",
      "熬   翱   袄   傲   奥   懊   澳   芭   捌   扒   \n",
      "\n",
      "叭   吧   笆   八   疤   巴   拔   跋   靶   把   \n",
      "\n",
      "耙   坝   霸   罢   爸   白   柏   百   摆   佰   \n",
      "\n",
      "败   拜   稗   斑   班   搬   扳   般   颁   板   \n",
      "\n",
      "版   扮   拌   伴   瓣   半   办   绊   邦   帮   \n",
      "\n",
      "梆   榜   膀   绑   棒   磅   蚌   镑   傍   谤   \n",
      "\n",
      "苞   胞   包   褒   剥             "
     ]
    }
   ],
   "source": [
    "for i in range(10):\n",
    "    for j in range(10):\n",
    "        if (i==0 and j==0):\n",
    "            print('     ',end='')\n",
    "            continue\n",
    "        if (i==9 and j>4):\n",
    "            print('  ',end='')\n",
    "            continue\n",
    "        i_j = str(i)+str(j)\n",
    "        print(show_word(16,int(i_j)),'  ',end='')\n",
    "        if j==9:\n",
    "            print('\\n')"
   ]
  },
  {
   "cell_type": "markdown",
   "metadata": {},
   "source": [
    "### 输出 17区 所有文字"
   ]
  },
  {
   "cell_type": "code",
   "execution_count": 77,
   "metadata": {},
   "outputs": [
    {
     "name": "stdout",
     "output_type": "stream",
     "text": [
      "     薄   雹   保   堡   饱   宝   抱   报   暴   \n",
      "\n",
      "豹   鲍   爆   杯   碑   悲   卑   北   辈   背   \n",
      "\n",
      "贝   钡   倍   狈   备   惫   焙   被   奔   苯   \n",
      "\n",
      "本   笨   崩   绷   甭   泵   蹦   迸   逼   鼻   \n",
      "\n",
      "比   鄙   笔   彼   碧   蓖   蔽   毕   毙   毖   \n",
      "\n",
      "币   庇   痹   闭   敝   弊   必   辟   壁   臂   \n",
      "\n",
      "避   陛   鞭   边   编   贬   扁   便   变   卞   \n",
      "\n",
      "辨   辩   辫   遍   标   彪   膘   表   鳖   憋   \n",
      "\n",
      "别   瘪   彬   斌   濒   滨   宾   摈   兵   冰   \n",
      "\n",
      "柄   丙   秉   饼   炳             "
     ]
    }
   ],
   "source": [
    "for i in range(10):\n",
    "    for j in range(10):\n",
    "        if (i==0 and j==0):\n",
    "            print('     ',end='')\n",
    "            continue\n",
    "        if (i==9 and j>4):\n",
    "            print('  ',end='')\n",
    "            continue\n",
    "        i_j = str(i)+str(j)\n",
    "        print(show_word(17,int(i_j)),'  ',end='')\n",
    "        if j==9:\n",
    "            print('\\n')"
   ]
  },
  {
   "cell_type": "markdown",
   "metadata": {},
   "source": [
    "### 输出 1区 所有字符"
   ]
  },
  {
   "cell_type": "code",
   "execution_count": 78,
   "metadata": {},
   "outputs": [
    {
     "name": "stdout",
     "output_type": "stream",
     "text": [
      "     　   、   。   ・   ˉ   ˇ   ¨   〃   々   \n",
      "\n",
      "―   ～   ‖   …   ‘   ’   “   ”   〔   〕   \n",
      "\n",
      "〈   〉   《   》   「   」   『   』   〖   〗   \n",
      "\n",
      "【   】   ±   ×   ÷   ∶   ∧   ∨   ∑   ∏   \n",
      "\n",
      "∪   ∩   ∈   ∷   √   ⊥   ∥   ∠   ⌒   ⊙   \n",
      "\n",
      "∫   ∮   ≡   ≌   ≈   ∽   ∝   ≠   ≮   ≯   \n",
      "\n",
      "≤   ≥   ∞   ∵   ∴   ♂   ♀   °   ′   ″   \n",
      "\n",
      "℃   ＄   ¤   ￠   ￡   ‰   §   №   ☆   ★   \n",
      "\n",
      "○   ●   ◎   ◇   ◆   □   ■   △   ▲   ※   \n",
      "\n",
      "→   ←   ↑   ↓   〓             "
     ]
    }
   ],
   "source": [
    "for i in range(10):\n",
    "    for j in range(10):\n",
    "        if (i==0 and j==0):\n",
    "            print('     ',end='')\n",
    "            continue\n",
    "        if (i==9 and j>4):\n",
    "            print('  ',end='')\n",
    "            continue\n",
    "        i_j = str(i)+str(j)\n",
    "        print(show_word(1,int(i_j)),'  ',end='')\n",
    "        if j==9:\n",
    "            print('\\n')"
   ]
  },
  {
   "cell_type": "markdown",
   "metadata": {},
   "source": [
    "# 输出 45区 所有字符"
   ]
  },
  {
   "cell_type": "code",
   "execution_count": 8,
   "metadata": {},
   "outputs": [
    {
     "name": "stdout",
     "output_type": "stream",
     "text": [
      "     汀   廷   停   亭   庭   挺   艇   通   桐   \n",
      "\n",
      "酮   瞳   同   铜   彤   童   桶   捅   筒   统   \n",
      "\n",
      "痛   偷   投   头   透   凸   秃   突   图   徒   \n",
      "\n",
      "途   涂   屠   土   吐   兔   湍   团   推   颓   \n",
      "\n",
      "腿   蜕   褪   退   吞   屯   臀   拖   托   脱   \n",
      "\n",
      "鸵   陀   驮   驼   椭   妥   拓   唾   挖   哇   \n",
      "\n",
      "蛙   洼   娃   瓦   袜   歪   外   豌   弯   湾   \n",
      "\n",
      "玩   顽   丸   烷   完   碗   挽   晚   皖   惋   \n",
      "\n",
      "宛   婉   万   腕   汪   王   亡   枉   网   往   \n",
      "\n",
      "旺   望   忘   妄   威             "
     ]
    }
   ],
   "source": [
    "for i in range(10):\n",
    "    for j in range(10):\n",
    "        if (i==0 and j==0):\n",
    "            print('     ',end='')\n",
    "            continue\n",
    "        if (i==9 and j>4):\n",
    "            print('  ',end='')\n",
    "            continue\n",
    "        i_j = str(i)+str(j)\n",
    "        print(show_word(45,int(i_j)),'  ',end='')\n",
    "        if j==9:\n",
    "            print('\\n')"
   ]
  },
  {
   "cell_type": "code",
   "execution_count": null,
   "metadata": {},
   "outputs": [],
   "source": []
  }
 ],
 "metadata": {
  "kernelspec": {
   "display_name": "Python 3",
   "language": "python",
   "name": "python3"
  },
  "language_info": {
   "codemirror_mode": {
    "name": "ipython",
    "version": 3
   },
   "file_extension": ".py",
   "mimetype": "text/x-python",
   "name": "python",
   "nbconvert_exporter": "python",
   "pygments_lexer": "ipython3",
   "version": "3.7.8"
  }
 },
 "nbformat": 4,
 "nbformat_minor": 4
}
